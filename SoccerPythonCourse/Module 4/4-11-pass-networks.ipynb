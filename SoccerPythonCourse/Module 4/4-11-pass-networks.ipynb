{
 "cells": [
  {
   "cell_type": "code",
   "execution_count": 1,
   "id": "792a8b01-63bd-4c72-898c-d3cdca7c81fa",
   "metadata": {},
   "outputs": [],
   "source": [
    "import math\n",
    "import pandas as pd\n",
    "from statsbombpy import sb\n",
    "from mplsoccer import VerticalPitch"
   ]
  },
  {
   "cell_type": "code",
   "execution_count": 2,
   "id": "ced774de-06eb-4ed1-a0c8-449c333200be",
   "metadata": {},
   "outputs": [],
   "source": [
    "df = sb.events(match_id=3869685)"
   ]
  },
  {
   "cell_type": "code",
   "execution_count": 3,
   "id": "127418c8-1fd1-4fa7-8ebe-67164b19b199",
   "metadata": {},
   "outputs": [],
   "source": [
    "df[['x', 'y']] = df['location'].apply(pd.Series)"
   ]
  },
  {
   "cell_type": "code",
   "execution_count": 4,
   "id": "0dd0ba3f-d24a-4c7d-86c2-7343fefe328f",
   "metadata": {},
   "outputs": [],
   "source": [
    "df = df[df['team'] == 'Argentina']"
   ]
  },
  {
   "cell_type": "code",
   "execution_count": 5,
   "id": "f96ddacd-6f6b-40d8-b87c-9031f9b66988",
   "metadata": {},
   "outputs": [],
   "source": [
    "df['newsecond'] = 60 * df['minute'] + df['second']"
   ]
  },
  {
   "cell_type": "code",
   "execution_count": 6,
   "id": "8c6c65e0-f762-4bb2-ab4b-f1e4bcc074cb",
   "metadata": {},
   "outputs": [],
   "source": [
    "df = df.sort_values(by=['newsecond'])"
   ]
  },
  {
   "cell_type": "code",
   "execution_count": 7,
   "id": "4602cc6b-ee8e-4857-a739-8a85a5918af7",
   "metadata": {},
   "outputs": [
    {
     "data": {
      "text/plain": [
       "0          0\n",
       "3          0\n",
       "14        16\n",
       "2390      17\n",
       "1277      17\n",
       "        ... \n",
       "4242    7456\n",
       "4406    7497\n",
       "4287    7510\n",
       "4244    7557\n",
       "4404    7558\n",
       "Name: newsecond, Length: 2372, dtype: int64"
      ]
     },
     "execution_count": 7,
     "metadata": {},
     "output_type": "execute_result"
    }
   ],
   "source": [
    "df['newsecond']"
   ]
  },
  {
   "cell_type": "code",
   "execution_count": 8,
   "id": "81a0ee4a-3bba-4da6-92a6-26ec80383554",
   "metadata": {},
   "outputs": [],
   "source": [
    "df['passer'] = df['player_id']\n",
    "df['recipient'] = df['passer'].shift(-1)"
   ]
  },
  {
   "cell_type": "code",
   "execution_count": 9,
   "id": "c8db535b-5f43-4aff-83bb-2e9285757b4d",
   "metadata": {},
   "outputs": [],
   "source": [
    "passes_df = df[df['type'] == 'Pass']"
   ]
  },
  {
   "cell_type": "code",
   "execution_count": 10,
   "id": "4c40da76-c63e-441f-8497-8faa66fdf687",
   "metadata": {},
   "outputs": [
    {
     "name": "stderr",
     "output_type": "stream",
     "text": [
      "C:\\Users\\knich\\AppData\\Local\\Temp\\ipykernel_13760\\2602487714.py:1: SettingWithCopyWarning: \n",
      "A value is trying to be set on a copy of a slice from a DataFrame.\n",
      "Try using .loc[row_indexer,col_indexer] = value instead\n",
      "\n",
      "See the caveats in the documentation: https://pandas.pydata.org/pandas-docs/stable/user_guide/indexing.html#returning-a-view-versus-a-copy\n",
      "  passes_df['pass_outcome'] = passes_df['pass_outcome'].fillna(\"Successful\")\n"
     ]
    }
   ],
   "source": [
    "passes_df['pass_outcome'] = passes_df['pass_outcome'].fillna(\"Successful\")"
   ]
  },
  {
   "cell_type": "code",
   "execution_count": 11,
   "id": "68cbec56-789c-4ee5-888c-d851a09da6d9",
   "metadata": {},
   "outputs": [
    {
     "data": {
      "text/plain": [
       "14      Successful\n",
       "15      Successful\n",
       "16      Successful\n",
       "17      Successful\n",
       "18      Successful\n",
       "           ...    \n",
       "1268    Successful\n",
       "1269    Successful\n",
       "1270    Successful\n",
       "1272    Incomplete\n",
       "1273    Successful\n",
       "Name: pass_outcome, Length: 693, dtype: object"
      ]
     },
     "execution_count": 11,
     "metadata": {},
     "output_type": "execute_result"
    }
   ],
   "source": [
    "passes_df['pass_outcome']"
   ]
  },
  {
   "cell_type": "code",
   "execution_count": 12,
   "id": "a60f9fa2-388e-4837-926b-95423f33520f",
   "metadata": {},
   "outputs": [],
   "source": [
    "completions = passes_df[passes_df['pass_outcome'] == 'Successful']"
   ]
  },
  {
   "cell_type": "code",
   "execution_count": 13,
   "id": "fa232afd-da0a-4193-a546-ef2bc51b42ca",
   "metadata": {},
   "outputs": [],
   "source": [
    "sub_df = df[df['type'] == 'Substitution']\n",
    "first_sub = sub_df['newsecond'].min()"
   ]
  },
  {
   "cell_type": "code",
   "execution_count": 16,
   "id": "7b768395-a255-429b-8f04-6c585ef1d364",
   "metadata": {},
   "outputs": [
    {
     "data": {
      "text/plain": [
       "3831"
      ]
     },
     "execution_count": 16,
     "metadata": {},
     "output_type": "execute_result"
    }
   ],
   "source": [
    "first_sub"
   ]
  },
  {
   "cell_type": "code",
   "execution_count": 15,
   "id": "61793d71-ee72-4cf6-80c3-f07a4d979b3a",
   "metadata": {},
   "outputs": [],
   "source": [
    "if first_sub <= (60*40):\n",
    "    first_sub = 60*45"
   ]
  },
  {
   "cell_type": "code",
   "execution_count": 17,
   "id": "89099ed9-c74e-4ed3-8ff1-a00360024386",
   "metadata": {},
   "outputs": [],
   "source": [
    "completions = completions[completions['newsecond'] < first_sub]"
   ]
  },
  {
   "cell_type": "code",
   "execution_count": 18,
   "id": "f998fe01-d983-40bc-afb7-c850572e1836",
   "metadata": {},
   "outputs": [
    {
     "data": {
      "text/plain": [
       "(317, 99)"
      ]
     },
     "execution_count": 18,
     "metadata": {},
     "output_type": "execute_result"
    }
   ],
   "source": [
    "completions.shape"
   ]
  },
  {
   "cell_type": "code",
   "execution_count": 19,
   "id": "cc5f7020-a663-4143-934d-1d31d250282e",
   "metadata": {},
   "outputs": [],
   "source": [
    "average_loc_and_count = completions.groupby('passer').agg({'x': ['mean'], 'y': ['mean', 'count']})"
   ]
  },
  {
   "cell_type": "code",
   "execution_count": 20,
   "id": "611feec2-a351-4519-af43-7153300aabb9",
   "metadata": {},
   "outputs": [],
   "source": [
    "average_loc_and_count.columns = ['x', 'y', 'count']"
   ]
  },
  {
   "cell_type": "code",
   "execution_count": 21,
   "id": "1b456668-9bdd-4962-97cc-ed7393545cc7",
   "metadata": {},
   "outputs": [
    {
     "data": {
      "text/html": [
       "<div>\n",
       "<style scoped>\n",
       "    .dataframe tbody tr th:only-of-type {\n",
       "        vertical-align: middle;\n",
       "    }\n",
       "\n",
       "    .dataframe tbody tr th {\n",
       "        vertical-align: top;\n",
       "    }\n",
       "\n",
       "    .dataframe thead th {\n",
       "        text-align: right;\n",
       "    }\n",
       "</style>\n",
       "<table border=\"1\" class=\"dataframe\">\n",
       "  <thead>\n",
       "    <tr style=\"text-align: right;\">\n",
       "      <th></th>\n",
       "      <th>x</th>\n",
       "      <th>y</th>\n",
       "      <th>count</th>\n",
       "    </tr>\n",
       "    <tr>\n",
       "      <th>passer</th>\n",
       "      <th></th>\n",
       "      <th></th>\n",
       "      <th></th>\n",
       "    </tr>\n",
       "  </thead>\n",
       "  <tbody>\n",
       "    <tr>\n",
       "      <th>2995.0</th>\n",
       "      <td>79.884000</td>\n",
       "      <td>11.448000</td>\n",
       "      <td>25</td>\n",
       "    </tr>\n",
       "    <tr>\n",
       "      <th>3090.0</th>\n",
       "      <td>38.279545</td>\n",
       "      <td>23.350000</td>\n",
       "      <td>44</td>\n",
       "    </tr>\n",
       "    <tr>\n",
       "      <th>5503.0</th>\n",
       "      <td>71.588889</td>\n",
       "      <td>51.096296</td>\n",
       "      <td>27</td>\n",
       "    </tr>\n",
       "    <tr>\n",
       "      <th>5507.0</th>\n",
       "      <td>58.567857</td>\n",
       "      <td>7.335714</td>\n",
       "      <td>28</td>\n",
       "    </tr>\n",
       "    <tr>\n",
       "      <th>6909.0</th>\n",
       "      <td>12.641667</td>\n",
       "      <td>43.966667</td>\n",
       "      <td>12</td>\n",
       "    </tr>\n",
       "  </tbody>\n",
       "</table>\n",
       "</div>"
      ],
      "text/plain": [
       "                x          y  count\n",
       "passer                             \n",
       "2995.0  79.884000  11.448000     25\n",
       "3090.0  38.279545  23.350000     44\n",
       "5503.0  71.588889  51.096296     27\n",
       "5507.0  58.567857   7.335714     28\n",
       "6909.0  12.641667  43.966667     12"
      ]
     },
     "execution_count": 21,
     "metadata": {},
     "output_type": "execute_result"
    }
   ],
   "source": [
    "average_loc_and_count.head()"
   ]
  },
  {
   "cell_type": "code",
   "execution_count": 23,
   "id": "ac4fa98c-4155-4b99-be0e-781cd21dd870",
   "metadata": {},
   "outputs": [],
   "source": [
    "passes_between = completions.groupby(['passer', 'recipient']).id.count().reset_index()"
   ]
  },
  {
   "cell_type": "code",
   "execution_count": null,
   "id": "d46cef4d-d7b4-4eab-9e6c-67a28677eb7a",
   "metadata": {},
   "outputs": [],
   "source": [
    "1757"
   ]
  }
 ],
 "metadata": {
  "kernelspec": {
   "display_name": "Python 3 (ipykernel)",
   "language": "python",
   "name": "python3"
  },
  "language_info": {
   "codemirror_mode": {
    "name": "ipython",
    "version": 3
   },
   "file_extension": ".py",
   "mimetype": "text/x-python",
   "name": "python",
   "nbconvert_exporter": "python",
   "pygments_lexer": "ipython3",
   "version": "3.11.3"
  }
 },
 "nbformat": 4,
 "nbformat_minor": 5
}
