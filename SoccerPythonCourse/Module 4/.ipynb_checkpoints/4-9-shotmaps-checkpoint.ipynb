{
 "cells": [
  {
   "cell_type": "code",
   "execution_count": 1,
   "id": "792a8b01-63bd-4c72-898c-d3cdca7c81fa",
   "metadata": {},
   "outputs": [
    {
     "name": "stderr",
     "output_type": "stream",
     "text": [
      "C:\\Users\\knich\\Desktop\\mckayjohns football analytics\\football-analytics-python\\env\\Lib\\site-packages\\statsbombpy\\api_client.py:21: NoAuthWarning: credentials were not supplied. open data access only\n",
      "  warnings.warn(\n"
     ]
    }
   ],
   "source": [
    "import pandas as pd\n",
    "from statsbombpy import sb\n",
    "\n",
    "df = sb.events(match_id=3869685)"
   ]
  },
  {
   "cell_type": "code",
   "execution_count": 2,
   "id": "f8936525-a0ed-4b43-8224-26d68fbf6804",
   "metadata": {},
   "outputs": [
    {
     "data": {
      "text/plain": [
       "Index(['50_50', 'bad_behaviour_card', 'ball_receipt_outcome',\n",
       "       'ball_recovery_offensive', 'ball_recovery_recovery_failure',\n",
       "       'block_deflection', 'block_offensive', 'carry_end_location',\n",
       "       'clearance_aerial_won', 'clearance_body_part', 'clearance_head',\n",
       "       'clearance_left_foot', 'clearance_other', 'clearance_right_foot',\n",
       "       'counterpress', 'dribble_nutmeg', 'dribble_outcome', 'dribble_overrun',\n",
       "       'duel_outcome', 'duel_type', 'duration', 'foul_committed_advantage',\n",
       "       'foul_committed_card', 'foul_committed_offensive',\n",
       "       'foul_committed_penalty', 'foul_committed_type', 'foul_won_advantage',\n",
       "       'foul_won_defensive', 'foul_won_penalty', 'goalkeeper_body_part',\n",
       "       'goalkeeper_end_location', 'goalkeeper_outcome', 'goalkeeper_position',\n",
       "       'goalkeeper_technique', 'goalkeeper_type', 'id', 'index',\n",
       "       'interception_outcome', 'location', 'match_id', 'minute', 'off_camera',\n",
       "       'out', 'pass_aerial_won', 'pass_angle', 'pass_assisted_shot_id',\n",
       "       'pass_body_part', 'pass_cross', 'pass_deflected', 'pass_end_location',\n",
       "       'pass_goal_assist', 'pass_height', 'pass_inswinging', 'pass_length',\n",
       "       'pass_outcome', 'pass_outswinging', 'pass_recipient',\n",
       "       'pass_recipient_id', 'pass_shot_assist', 'pass_switch',\n",
       "       'pass_technique', 'pass_through_ball', 'pass_type', 'period',\n",
       "       'play_pattern', 'player', 'player_id', 'position', 'possession',\n",
       "       'possession_team', 'possession_team_id', 'related_events', 'second',\n",
       "       'shot_aerial_won', 'shot_body_part', 'shot_end_location',\n",
       "       'shot_first_time', 'shot_freeze_frame', 'shot_key_pass_id',\n",
       "       'shot_one_on_one', 'shot_outcome', 'shot_statsbomb_xg',\n",
       "       'shot_technique', 'shot_type', 'substitution_outcome',\n",
       "       'substitution_outcome_id', 'substitution_replacement',\n",
       "       'substitution_replacement_id', 'tactics', 'team', 'team_id',\n",
       "       'timestamp', 'type', 'under_pressure'],\n",
       "      dtype='object')"
      ]
     },
     "execution_count": 2,
     "metadata": {},
     "output_type": "execute_result"
    }
   ],
   "source": [
    "df.columns"
   ]
  },
  {
   "cell_type": "code",
   "execution_count": 3,
   "id": "dfb87ab2-f309-4dcf-9ce3-33aca52f6634",
   "metadata": {},
   "outputs": [],
   "source": [
    "df = df[df['type'] == 'Shot']\n",
    "\n",
    "df = df[['team', 'player', 'location', 'shot_outcome', 'shot_statsbomb_xg', 'shot_type']]"
   ]
  },
  {
   "cell_type": "code",
   "execution_count": 4,
   "id": "73b8dced-b5a0-4c36-94cf-82838c556ea7",
   "metadata": {},
   "outputs": [
    {
     "data": {
      "text/html": [
       "<div>\n",
       "<style scoped>\n",
       "    .dataframe tbody tr th:only-of-type {\n",
       "        vertical-align: middle;\n",
       "    }\n",
       "\n",
       "    .dataframe tbody tr th {\n",
       "        vertical-align: top;\n",
       "    }\n",
       "\n",
       "    .dataframe thead th {\n",
       "        text-align: right;\n",
       "    }\n",
       "</style>\n",
       "<table border=\"1\" class=\"dataframe\">\n",
       "  <thead>\n",
       "    <tr style=\"text-align: right;\">\n",
       "      <th></th>\n",
       "      <th>team</th>\n",
       "      <th>player</th>\n",
       "      <th>location</th>\n",
       "      <th>shot_outcome</th>\n",
       "      <th>shot_statsbomb_xg</th>\n",
       "      <th>shot_type</th>\n",
       "    </tr>\n",
       "  </thead>\n",
       "  <tbody>\n",
       "    <tr>\n",
       "      <th>4207</th>\n",
       "      <td>Argentina</td>\n",
       "      <td>Alexis Mac Allister</td>\n",
       "      <td>[92.4, 30.0]</td>\n",
       "      <td>Saved</td>\n",
       "      <td>0.024542</td>\n",
       "      <td>Open Play</td>\n",
       "    </tr>\n",
       "    <tr>\n",
       "      <th>4208</th>\n",
       "      <td>Argentina</td>\n",
       "      <td>Rodrigo Javier De Paul</td>\n",
       "      <td>[99.2, 47.9]</td>\n",
       "      <td>Blocked</td>\n",
       "      <td>0.062813</td>\n",
       "      <td>Open Play</td>\n",
       "    </tr>\n",
       "    <tr>\n",
       "      <th>4209</th>\n",
       "      <td>Argentina</td>\n",
       "      <td>Ángel Fabián Di María Hernández</td>\n",
       "      <td>[103.1, 34.6]</td>\n",
       "      <td>Off T</td>\n",
       "      <td>0.106801</td>\n",
       "      <td>Open Play</td>\n",
       "    </tr>\n",
       "    <tr>\n",
       "      <th>4210</th>\n",
       "      <td>Argentina</td>\n",
       "      <td>Lionel Andrés Messi Cuccittini</td>\n",
       "      <td>[108.0, 40.0]</td>\n",
       "      <td>Goal</td>\n",
       "      <td>0.783500</td>\n",
       "      <td>Penalty</td>\n",
       "    </tr>\n",
       "    <tr>\n",
       "      <th>4211</th>\n",
       "      <td>Argentina</td>\n",
       "      <td>Alexis Mac Allister</td>\n",
       "      <td>[94.3, 23.5]</td>\n",
       "      <td>Wayward</td>\n",
       "      <td>0.010578</td>\n",
       "      <td>Open Play</td>\n",
       "    </tr>\n",
       "  </tbody>\n",
       "</table>\n",
       "</div>"
      ],
      "text/plain": [
       "           team                           player       location shot_outcome  \\\n",
       "4207  Argentina              Alexis Mac Allister   [92.4, 30.0]        Saved   \n",
       "4208  Argentina           Rodrigo Javier De Paul   [99.2, 47.9]      Blocked   \n",
       "4209  Argentina  Ángel Fabián Di María Hernández  [103.1, 34.6]        Off T   \n",
       "4210  Argentina   Lionel Andrés Messi Cuccittini  [108.0, 40.0]         Goal   \n",
       "4211  Argentina              Alexis Mac Allister   [94.3, 23.5]      Wayward   \n",
       "\n",
       "      shot_statsbomb_xg  shot_type  \n",
       "4207           0.024542  Open Play  \n",
       "4208           0.062813  Open Play  \n",
       "4209           0.106801  Open Play  \n",
       "4210           0.783500    Penalty  \n",
       "4211           0.010578  Open Play  "
      ]
     },
     "execution_count": 4,
     "metadata": {},
     "output_type": "execute_result"
    }
   ],
   "source": [
    "df.head()"
   ]
  },
  {
   "cell_type": "code",
   "execution_count": 5,
   "id": "668bd3d3-6511-4ccd-beb9-9875cfa9db7e",
   "metadata": {},
   "outputs": [],
   "source": [
    "df = df[df['shot_type'] != 'Penalty']"
   ]
  },
  {
   "cell_type": "code",
   "execution_count": 6,
   "id": "aaf504a3-4097-4c8e-8d91-6c510d79ba2a",
   "metadata": {},
   "outputs": [
    {
     "data": {
      "text/html": [
       "<div>\n",
       "<style scoped>\n",
       "    .dataframe tbody tr th:only-of-type {\n",
       "        vertical-align: middle;\n",
       "    }\n",
       "\n",
       "    .dataframe tbody tr th {\n",
       "        vertical-align: top;\n",
       "    }\n",
       "\n",
       "    .dataframe thead th {\n",
       "        text-align: right;\n",
       "    }\n",
       "</style>\n",
       "<table border=\"1\" class=\"dataframe\">\n",
       "  <thead>\n",
       "    <tr style=\"text-align: right;\">\n",
       "      <th></th>\n",
       "      <th>team</th>\n",
       "      <th>player</th>\n",
       "      <th>location</th>\n",
       "      <th>shot_outcome</th>\n",
       "      <th>shot_statsbomb_xg</th>\n",
       "      <th>shot_type</th>\n",
       "    </tr>\n",
       "  </thead>\n",
       "  <tbody>\n",
       "    <tr>\n",
       "      <th>4207</th>\n",
       "      <td>Argentina</td>\n",
       "      <td>Alexis Mac Allister</td>\n",
       "      <td>[92.4, 30.0]</td>\n",
       "      <td>Saved</td>\n",
       "      <td>0.024542</td>\n",
       "      <td>Open Play</td>\n",
       "    </tr>\n",
       "    <tr>\n",
       "      <th>4208</th>\n",
       "      <td>Argentina</td>\n",
       "      <td>Rodrigo Javier De Paul</td>\n",
       "      <td>[99.2, 47.9]</td>\n",
       "      <td>Blocked</td>\n",
       "      <td>0.062813</td>\n",
       "      <td>Open Play</td>\n",
       "    </tr>\n",
       "    <tr>\n",
       "      <th>4209</th>\n",
       "      <td>Argentina</td>\n",
       "      <td>Ángel Fabián Di María Hernández</td>\n",
       "      <td>[103.1, 34.6]</td>\n",
       "      <td>Off T</td>\n",
       "      <td>0.106801</td>\n",
       "      <td>Open Play</td>\n",
       "    </tr>\n",
       "    <tr>\n",
       "      <th>4211</th>\n",
       "      <td>Argentina</td>\n",
       "      <td>Alexis Mac Allister</td>\n",
       "      <td>[94.3, 23.5]</td>\n",
       "      <td>Wayward</td>\n",
       "      <td>0.010578</td>\n",
       "      <td>Open Play</td>\n",
       "    </tr>\n",
       "    <tr>\n",
       "      <th>4212</th>\n",
       "      <td>Argentina</td>\n",
       "      <td>Ángel Fabián Di María Hernández</td>\n",
       "      <td>[111.8, 32.1]</td>\n",
       "      <td>Goal</td>\n",
       "      <td>0.303409</td>\n",
       "      <td>Open Play</td>\n",
       "    </tr>\n",
       "  </tbody>\n",
       "</table>\n",
       "</div>"
      ],
      "text/plain": [
       "           team                           player       location shot_outcome  \\\n",
       "4207  Argentina              Alexis Mac Allister   [92.4, 30.0]        Saved   \n",
       "4208  Argentina           Rodrigo Javier De Paul   [99.2, 47.9]      Blocked   \n",
       "4209  Argentina  Ángel Fabián Di María Hernández  [103.1, 34.6]        Off T   \n",
       "4211  Argentina              Alexis Mac Allister   [94.3, 23.5]      Wayward   \n",
       "4212  Argentina  Ángel Fabián Di María Hernández  [111.8, 32.1]         Goal   \n",
       "\n",
       "      shot_statsbomb_xg  shot_type  \n",
       "4207           0.024542  Open Play  \n",
       "4208           0.062813  Open Play  \n",
       "4209           0.106801  Open Play  \n",
       "4211           0.010578  Open Play  \n",
       "4212           0.303409  Open Play  "
      ]
     },
     "execution_count": 6,
     "metadata": {},
     "output_type": "execute_result"
    }
   ],
   "source": [
    "df.head()"
   ]
  },
  {
   "cell_type": "code",
   "execution_count": 7,
   "id": "72b02360-d2d6-4ea3-9f6f-ef867f41efb1",
   "metadata": {},
   "outputs": [],
   "source": [
    "df[['x', 'y']] = df['location'].apply(pd.Series)"
   ]
  },
  {
   "cell_type": "code",
   "execution_count": 8,
   "id": "8ae52aac-0e7d-4207-821f-ac0907badcf2",
   "metadata": {},
   "outputs": [
    {
     "data": {
      "text/html": [
       "<div>\n",
       "<style scoped>\n",
       "    .dataframe tbody tr th:only-of-type {\n",
       "        vertical-align: middle;\n",
       "    }\n",
       "\n",
       "    .dataframe tbody tr th {\n",
       "        vertical-align: top;\n",
       "    }\n",
       "\n",
       "    .dataframe thead th {\n",
       "        text-align: right;\n",
       "    }\n",
       "</style>\n",
       "<table border=\"1\" class=\"dataframe\">\n",
       "  <thead>\n",
       "    <tr style=\"text-align: right;\">\n",
       "      <th></th>\n",
       "      <th>team</th>\n",
       "      <th>player</th>\n",
       "      <th>location</th>\n",
       "      <th>shot_outcome</th>\n",
       "      <th>shot_statsbomb_xg</th>\n",
       "      <th>shot_type</th>\n",
       "      <th>x</th>\n",
       "      <th>y</th>\n",
       "    </tr>\n",
       "  </thead>\n",
       "  <tbody>\n",
       "    <tr>\n",
       "      <th>4207</th>\n",
       "      <td>Argentina</td>\n",
       "      <td>Alexis Mac Allister</td>\n",
       "      <td>[92.4, 30.0]</td>\n",
       "      <td>Saved</td>\n",
       "      <td>0.024542</td>\n",
       "      <td>Open Play</td>\n",
       "      <td>92.4</td>\n",
       "      <td>30.0</td>\n",
       "    </tr>\n",
       "    <tr>\n",
       "      <th>4208</th>\n",
       "      <td>Argentina</td>\n",
       "      <td>Rodrigo Javier De Paul</td>\n",
       "      <td>[99.2, 47.9]</td>\n",
       "      <td>Blocked</td>\n",
       "      <td>0.062813</td>\n",
       "      <td>Open Play</td>\n",
       "      <td>99.2</td>\n",
       "      <td>47.9</td>\n",
       "    </tr>\n",
       "    <tr>\n",
       "      <th>4209</th>\n",
       "      <td>Argentina</td>\n",
       "      <td>Ángel Fabián Di María Hernández</td>\n",
       "      <td>[103.1, 34.6]</td>\n",
       "      <td>Off T</td>\n",
       "      <td>0.106801</td>\n",
       "      <td>Open Play</td>\n",
       "      <td>103.1</td>\n",
       "      <td>34.6</td>\n",
       "    </tr>\n",
       "    <tr>\n",
       "      <th>4211</th>\n",
       "      <td>Argentina</td>\n",
       "      <td>Alexis Mac Allister</td>\n",
       "      <td>[94.3, 23.5]</td>\n",
       "      <td>Wayward</td>\n",
       "      <td>0.010578</td>\n",
       "      <td>Open Play</td>\n",
       "      <td>94.3</td>\n",
       "      <td>23.5</td>\n",
       "    </tr>\n",
       "    <tr>\n",
       "      <th>4212</th>\n",
       "      <td>Argentina</td>\n",
       "      <td>Ángel Fabián Di María Hernández</td>\n",
       "      <td>[111.8, 32.1]</td>\n",
       "      <td>Goal</td>\n",
       "      <td>0.303409</td>\n",
       "      <td>Open Play</td>\n",
       "      <td>111.8</td>\n",
       "      <td>32.1</td>\n",
       "    </tr>\n",
       "  </tbody>\n",
       "</table>\n",
       "</div>"
      ],
      "text/plain": [
       "           team                           player       location shot_outcome  \\\n",
       "4207  Argentina              Alexis Mac Allister   [92.4, 30.0]        Saved   \n",
       "4208  Argentina           Rodrigo Javier De Paul   [99.2, 47.9]      Blocked   \n",
       "4209  Argentina  Ángel Fabián Di María Hernández  [103.1, 34.6]        Off T   \n",
       "4211  Argentina              Alexis Mac Allister   [94.3, 23.5]      Wayward   \n",
       "4212  Argentina  Ángel Fabián Di María Hernández  [111.8, 32.1]         Goal   \n",
       "\n",
       "      shot_statsbomb_xg  shot_type      x     y  \n",
       "4207           0.024542  Open Play   92.4  30.0  \n",
       "4208           0.062813  Open Play   99.2  47.9  \n",
       "4209           0.106801  Open Play  103.1  34.6  \n",
       "4211           0.010578  Open Play   94.3  23.5  \n",
       "4212           0.303409  Open Play  111.8  32.1  "
      ]
     },
     "execution_count": 8,
     "metadata": {},
     "output_type": "execute_result"
    }
   ],
   "source": [
    "df.head()"
   ]
  },
  {
   "cell_type": "code",
   "execution_count": 9,
   "id": "7c7c68cd-9652-4256-b2bf-c7207e4ef45c",
   "metadata": {},
   "outputs": [],
   "source": [
    "from mplsoccer import Pitch"
   ]
  },
  {
   "cell_type": "code",
   "execution_count": 13,
   "id": "23358468-aa44-42cc-afd6-06b0095c412e",
   "metadata": {},
   "outputs": [
    {
     "data": {
      "text/plain": [
       "Text(90, 86, 'Argentina')"
      ]
     },
     "execution_count": 13,
     "metadata": {},
     "output_type": "execute_result"
    },
    {
     "data": {
      "image/png": "[encoded data removed]",
      "text/plain": [
       "<Figure size 640x480 with 1 Axes>"
      ]
     },
     "metadata": {},
     "output_type": "display_data"
    }
   ],
   "source": [
    "pitch = Pitch(pitch_type='statsbomb')\n",
    "fix, ax = pitch.draw()\n",
    "\n",
    "for x in df.to_dict(orient='records'):\n",
    "    if x['team'] == 'France':\n",
    "        pitch.scatter(x=120-x['x'], y=80-x['y'], ax=ax, s=500*x['shot_statsbomb_xg'], ec='black', c='green' if x['shot_outcome'] == 'Goal' else 'white')\n",
    "    else:\n",
    "        pitch.scatter(x=x['x'], y=x['y'], ax=ax, s=500*x['shot_statsbomb_xg'], ec='black', c='green' if x['shot_outcome'] == 'Goal' else 'white')\n",
    "\n",
    "ax.set_title('2022 World Cup Final Shotmap', fontsize=20)\n",
    "\n",
    "ax.text(30, 86, 'France', ha='center', fontsize=16)\n",
    "ax.text(90, 86, 'Argentina', ha='center', fontsize=16)"
   ]
  },
  {
   "cell_type": "code",
   "execution_count": null,
   "id": "765f47db-b627-45a2-823a-d6763b4d8d58",
   "metadata": {},
   "outputs": [],
   "source": []
  }
 ],
 "metadata": {
  "kernelspec": {
   "display_name": "Python 3 (ipykernel)",
   "language": "python",
   "name": "python3"
  },
  "language_info": {
   "codemirror_mode": {
    "name": "ipython",
    "version": 3
   },
   "file_extension": ".py",
   "mimetype": "text/x-python",
   "name": "python",
   "nbconvert_exporter": "python",
   "pygments_lexer": "ipython3",
   "version": "3.11.3"
  }
 },
 "nbformat": 4,
 "nbformat_minor": 5
}
