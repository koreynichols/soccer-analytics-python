{
 "cells": [
  {
   "cell_type": "code",
   "execution_count": 1,
   "id": "792a8b01-63bd-4c72-898c-d3cdca7c81fa",
   "metadata": {},
   "outputs": [],
   "source": [
    "import math\n",
    "import pandas as pd\n",
    "from statsbombpy import sb\n",
    "from mplsoccer import VerticalPitch"
   ]
  },
  {
   "cell_type": "code",
   "execution_count": 2,
   "id": "ced774de-06eb-4ed1-a0c8-449c333200be",
   "metadata": {},
   "outputs": [],
   "source": [
    "df = sb.events(match_id=3869685)"
   ]
  },
  {
   "cell_type": "code",
   "execution_count": 3,
   "id": "127418c8-1fd1-4fa7-8ebe-67164b19b199",
   "metadata": {},
   "outputs": [],
   "source": [
    "df[['x', 'y']] = df['location'].apply(pd.Series)"
   ]
  },
  {
   "cell_type": "code",
   "execution_count": 4,
   "id": "0dd0ba3f-d24a-4c7d-86c2-7343fefe328f",
   "metadata": {},
   "outputs": [],
   "source": [
    "df = df[df['team'] == 'Argentina']"
   ]
  },
  {
   "cell_type": "code",
   "execution_count": 5,
   "id": "f96ddacd-6f6b-40d8-b87c-9031f9b66988",
   "metadata": {},
   "outputs": [],
   "source": [
    "df['newsecond'] = 60 * df['minute'] + df['second']"
   ]
  },
  {
   "cell_type": "code",
   "execution_count": 6,
   "id": "8c6c65e0-f762-4bb2-ab4b-f1e4bcc074cb",
   "metadata": {},
   "outputs": [],
   "source": [
    "df = df.sort_values(by=['newsecond'])"
   ]
  },
  {
   "cell_type": "code",
   "execution_count": 7,
   "id": "4602cc6b-ee8e-4857-a739-8a85a5918af7",
   "metadata": {},
   "outputs": [
    {
     "data": {
      "text/plain": [
       "0          0\n",
       "3          0\n",
       "14        16\n",
       "2390      17\n",
       "1277      17\n",
       "        ... \n",
       "4242    7456\n",
       "4406    7497\n",
       "4287    7510\n",
       "4244    7557\n",
       "4404    7558\n",
       "Name: newsecond, Length: 2372, dtype: int64"
      ]
     },
     "execution_count": 7,
     "metadata": {},
     "output_type": "execute_result"
    }
   ],
   "source": [
    "df['newsecond']"
   ]
  },
  {
   "cell_type": "code",
   "execution_count": 8,
   "id": "81a0ee4a-3bba-4da6-92a6-26ec80383554",
   "metadata": {},
   "outputs": [],
   "source": [
    "df['passer'] = df['player_id']\n",
    "df['recipient'] = df['passer'].shift(-1)"
   ]
  },
  {
   "cell_type": "code",
   "execution_count": 9,
   "id": "c8db535b-5f43-4aff-83bb-2e9285757b4d",
   "metadata": {},
   "outputs": [],
   "source": [
    "passes_df = df[df['type'] == 'Pass']"
   ]
  },
  {
   "cell_type": "code",
   "execution_count": 10,
   "id": "4c40da76-c63e-441f-8497-8faa66fdf687",
   "metadata": {},
   "outputs": [
    {
     "name": "stderr",
     "output_type": "stream",
     "text": [
      "C:\\Users\\knich\\AppData\\Local\\Temp\\ipykernel_28732\\2602487714.py:1: SettingWithCopyWarning: \n",
      "A value is trying to be set on a copy of a slice from a DataFrame.\n",
      "Try using .loc[row_indexer,col_indexer] = value instead\n",
      "\n",
      "See the caveats in the documentation: https://pandas.pydata.org/pandas-docs/stable/user_guide/indexing.html#returning-a-view-versus-a-copy\n",
      "  passes_df['pass_outcome'] = passes_df['pass_outcome'].fillna(\"Successful\")\n"
     ]
    }
   ],
   "source": [
    "passes_df['pass_outcome'] = passes_df['pass_outcome'].fillna(\"Successful\")"
   ]
  },
  {
   "cell_type": "code",
   "execution_count": 11,
   "id": "68cbec56-789c-4ee5-888c-d851a09da6d9",
   "metadata": {},
   "outputs": [
    {
     "data": {
      "text/plain": [
       "14      Successful\n",
       "15      Successful\n",
       "16      Successful\n",
       "17      Successful\n",
       "18      Successful\n",
       "           ...    \n",
       "1268    Successful\n",
       "1269    Successful\n",
       "1270    Successful\n",
       "1272    Incomplete\n",
       "1273    Successful\n",
       "Name: pass_outcome, Length: 693, dtype: object"
      ]
     },
     "execution_count": 11,
     "metadata": {},
     "output_type": "execute_result"
    }
   ],
   "source": [
    "passes_df['pass_outcome']"
   ]
  },
  {
   "cell_type": "code",
   "execution_count": 12,
   "id": "a60f9fa2-388e-4837-926b-95423f33520f",
   "metadata": {},
   "outputs": [],
   "source": [
    "completions = passes_df[passes_df['pass_outcome'] == 'Successful']"
   ]
  },
  {
   "cell_type": "code",
   "execution_count": 13,
   "id": "fa232afd-da0a-4193-a546-ef2bc51b42ca",
   "metadata": {},
   "outputs": [],
   "source": [
    "sub_df = df[df['type'] == 'Substitution']\n",
    "first_sub = sub_df['newsecond'].min()"
   ]
  },
  {
   "cell_type": "code",
   "execution_count": 14,
   "id": "7b768395-a255-429b-8f04-6c585ef1d364",
   "metadata": {},
   "outputs": [
    {
     "data": {
      "text/plain": [
       "3831"
      ]
     },
     "execution_count": 14,
     "metadata": {},
     "output_type": "execute_result"
    }
   ],
   "source": [
    "first_sub"
   ]
  },
  {
   "cell_type": "code",
   "execution_count": 15,
   "id": "61793d71-ee72-4cf6-80c3-f07a4d979b3a",
   "metadata": {},
   "outputs": [],
   "source": [
    "if first_sub <= (60*40):\n",
    "    first_sub = 60*45"
   ]
  },
  {
   "cell_type": "code",
   "execution_count": 16,
   "id": "89099ed9-c74e-4ed3-8ff1-a00360024386",
   "metadata": {},
   "outputs": [],
   "source": [
    "completions = completions[completions['newsecond'] < first_sub]"
   ]
  },
  {
   "cell_type": "code",
   "execution_count": 17,
   "id": "f998fe01-d983-40bc-afb7-c850572e1836",
   "metadata": {},
   "outputs": [
    {
     "data": {
      "text/plain": [
       "(317, 99)"
      ]
     },
     "execution_count": 17,
     "metadata": {},
     "output_type": "execute_result"
    }
   ],
   "source": [
    "completions.shape"
   ]
  },
  {
   "cell_type": "code",
   "execution_count": 18,
   "id": "cc5f7020-a663-4143-934d-1d31d250282e",
   "metadata": {},
   "outputs": [],
   "source": [
    "average_loc_and_count = completions.groupby('passer').agg({'x': ['mean'], 'y': ['mean', 'count']})"
   ]
  },
  {
   "cell_type": "code",
   "execution_count": 19,
   "id": "611feec2-a351-4519-af43-7153300aabb9",
   "metadata": {},
   "outputs": [],
   "source": [
    "average_loc_and_count.columns = ['x', 'y', 'count']"
   ]
  },
  {
   "cell_type": "code",
   "execution_count": 20,
   "id": "1b456668-9bdd-4962-97cc-ed7393545cc7",
   "metadata": {},
   "outputs": [
    {
     "data": {
      "text/html": [
       "<div>\n",
       "<style scoped>\n",
       "    .dataframe tbody tr th:only-of-type {\n",
       "        vertical-align: middle;\n",
       "    }\n",
       "\n",
       "    .dataframe tbody tr th {\n",
       "        vertical-align: top;\n",
       "    }\n",
       "\n",
       "    .dataframe thead th {\n",
       "        text-align: right;\n",
       "    }\n",
       "</style>\n",
       "<table border=\"1\" class=\"dataframe\">\n",
       "  <thead>\n",
       "    <tr style=\"text-align: right;\">\n",
       "      <th></th>\n",
       "      <th>x</th>\n",
       "      <th>y</th>\n",
       "      <th>count</th>\n",
       "    </tr>\n",
       "    <tr>\n",
       "      <th>passer</th>\n",
       "      <th></th>\n",
       "      <th></th>\n",
       "      <th></th>\n",
       "    </tr>\n",
       "  </thead>\n",
       "  <tbody>\n",
       "    <tr>\n",
       "      <th>2995.0</th>\n",
       "      <td>79.884000</td>\n",
       "      <td>11.448000</td>\n",
       "      <td>25</td>\n",
       "    </tr>\n",
       "    <tr>\n",
       "      <th>3090.0</th>\n",
       "      <td>38.279545</td>\n",
       "      <td>23.350000</td>\n",
       "      <td>44</td>\n",
       "    </tr>\n",
       "    <tr>\n",
       "      <th>5503.0</th>\n",
       "      <td>71.588889</td>\n",
       "      <td>51.096296</td>\n",
       "      <td>27</td>\n",
       "    </tr>\n",
       "    <tr>\n",
       "      <th>5507.0</th>\n",
       "      <td>58.567857</td>\n",
       "      <td>7.335714</td>\n",
       "      <td>28</td>\n",
       "    </tr>\n",
       "    <tr>\n",
       "      <th>6909.0</th>\n",
       "      <td>12.641667</td>\n",
       "      <td>43.966667</td>\n",
       "      <td>12</td>\n",
       "    </tr>\n",
       "  </tbody>\n",
       "</table>\n",
       "</div>"
      ],
      "text/plain": [
       "                x          y  count\n",
       "passer                             \n",
       "2995.0  79.884000  11.448000     25\n",
       "3090.0  38.279545  23.350000     44\n",
       "5503.0  71.588889  51.096296     27\n",
       "5507.0  58.567857   7.335714     28\n",
       "6909.0  12.641667  43.966667     12"
      ]
     },
     "execution_count": 20,
     "metadata": {},
     "output_type": "execute_result"
    }
   ],
   "source": [
    "average_loc_and_count.head()"
   ]
  },
  {
   "cell_type": "code",
   "execution_count": 21,
   "id": "ac4fa98c-4155-4b99-be0e-781cd21dd870",
   "metadata": {},
   "outputs": [],
   "source": [
    "passes_between = completions.groupby(['passer', 'recipient']).id.count().reset_index()"
   ]
  },
  {
   "cell_type": "code",
   "execution_count": 22,
   "id": "d46cef4d-d7b4-4eab-9e6c-67a28677eb7a",
   "metadata": {},
   "outputs": [],
   "source": [
    "passes_between.rename({'id': 'pass_count'}, axis='columns', inplace=True)"
   ]
  },
  {
   "cell_type": "code",
   "execution_count": 25,
   "id": "05a6a31e",
   "metadata": {},
   "outputs": [],
   "source": [
    "passes_between = passes_between.merge(average_loc_and_count, left_on='passer', right_index=True)\n",
    "passes_between = passes_between.merge(average_loc_and_count, left_on='recipient', right_index=True, suffixes=['', '_end'])"
   ]
  },
  {
   "cell_type": "code",
   "execution_count": 26,
   "id": "a0ca0c72",
   "metadata": {},
   "outputs": [
    {
     "data": {
      "text/html": [
       "<div>\n",
       "<style scoped>\n",
       "    .dataframe tbody tr th:only-of-type {\n",
       "        vertical-align: middle;\n",
       "    }\n",
       "\n",
       "    .dataframe tbody tr th {\n",
       "        vertical-align: top;\n",
       "    }\n",
       "\n",
       "    .dataframe thead th {\n",
       "        text-align: right;\n",
       "    }\n",
       "</style>\n",
       "<table border=\"1\" class=\"dataframe\">\n",
       "  <thead>\n",
       "    <tr style=\"text-align: right;\">\n",
       "      <th></th>\n",
       "      <th>passer</th>\n",
       "      <th>recipient</th>\n",
       "      <th>pass_count</th>\n",
       "      <th>x</th>\n",
       "      <th>y</th>\n",
       "      <th>count</th>\n",
       "      <th>x_end</th>\n",
       "      <th>y_end</th>\n",
       "      <th>count_end</th>\n",
       "    </tr>\n",
       "  </thead>\n",
       "  <tbody>\n",
       "    <tr>\n",
       "      <th>0</th>\n",
       "      <td>2995.0</td>\n",
       "      <td>2995.0</td>\n",
       "      <td>2</td>\n",
       "      <td>79.884000</td>\n",
       "      <td>11.448000</td>\n",
       "      <td>25</td>\n",
       "      <td>79.884000</td>\n",
       "      <td>11.448000</td>\n",
       "      <td>25</td>\n",
       "    </tr>\n",
       "    <tr>\n",
       "      <th>9</th>\n",
       "      <td>3090.0</td>\n",
       "      <td>2995.0</td>\n",
       "      <td>4</td>\n",
       "      <td>38.279545</td>\n",
       "      <td>23.350000</td>\n",
       "      <td>44</td>\n",
       "      <td>79.884000</td>\n",
       "      <td>11.448000</td>\n",
       "      <td>25</td>\n",
       "    </tr>\n",
       "    <tr>\n",
       "      <th>17</th>\n",
       "      <td>5503.0</td>\n",
       "      <td>2995.0</td>\n",
       "      <td>4</td>\n",
       "      <td>71.588889</td>\n",
       "      <td>51.096296</td>\n",
       "      <td>27</td>\n",
       "      <td>79.884000</td>\n",
       "      <td>11.448000</td>\n",
       "      <td>25</td>\n",
       "    </tr>\n",
       "    <tr>\n",
       "      <th>26</th>\n",
       "      <td>5507.0</td>\n",
       "      <td>2995.0</td>\n",
       "      <td>7</td>\n",
       "      <td>58.567857</td>\n",
       "      <td>7.335714</td>\n",
       "      <td>28</td>\n",
       "      <td>79.884000</td>\n",
       "      <td>11.448000</td>\n",
       "      <td>25</td>\n",
       "    </tr>\n",
       "    <tr>\n",
       "      <th>32</th>\n",
       "      <td>6909.0</td>\n",
       "      <td>2995.0</td>\n",
       "      <td>2</td>\n",
       "      <td>12.641667</td>\n",
       "      <td>43.966667</td>\n",
       "      <td>12</td>\n",
       "      <td>79.884000</td>\n",
       "      <td>11.448000</td>\n",
       "      <td>25</td>\n",
       "    </tr>\n",
       "    <tr>\n",
       "      <th>...</th>\n",
       "      <td>...</td>\n",
       "      <td>...</td>\n",
       "      <td>...</td>\n",
       "      <td>...</td>\n",
       "      <td>...</td>\n",
       "      <td>...</td>\n",
       "      <td>...</td>\n",
       "      <td>...</td>\n",
       "      <td>...</td>\n",
       "    </tr>\n",
       "    <tr>\n",
       "      <th>14</th>\n",
       "      <td>3090.0</td>\n",
       "      <td>20572.0</td>\n",
       "      <td>12</td>\n",
       "      <td>38.279545</td>\n",
       "      <td>23.350000</td>\n",
       "      <td>44</td>\n",
       "      <td>33.905128</td>\n",
       "      <td>53.346154</td>\n",
       "      <td>39</td>\n",
       "    </tr>\n",
       "    <tr>\n",
       "      <th>21</th>\n",
       "      <td>5503.0</td>\n",
       "      <td>20572.0</td>\n",
       "      <td>1</td>\n",
       "      <td>71.588889</td>\n",
       "      <td>51.096296</td>\n",
       "      <td>27</td>\n",
       "      <td>33.905128</td>\n",
       "      <td>53.346154</td>\n",
       "      <td>39</td>\n",
       "    </tr>\n",
       "    <tr>\n",
       "      <th>35</th>\n",
       "      <td>6909.0</td>\n",
       "      <td>20572.0</td>\n",
       "      <td>4</td>\n",
       "      <td>12.641667</td>\n",
       "      <td>43.966667</td>\n",
       "      <td>12</td>\n",
       "      <td>33.905128</td>\n",
       "      <td>53.346154</td>\n",
       "      <td>39</td>\n",
       "    </tr>\n",
       "    <tr>\n",
       "      <th>43</th>\n",
       "      <td>7797.0</td>\n",
       "      <td>20572.0</td>\n",
       "      <td>6</td>\n",
       "      <td>59.159459</td>\n",
       "      <td>59.248649</td>\n",
       "      <td>37</td>\n",
       "      <td>33.905128</td>\n",
       "      <td>53.346154</td>\n",
       "      <td>39</td>\n",
       "    </tr>\n",
       "    <tr>\n",
       "      <th>83</th>\n",
       "      <td>38718.0</td>\n",
       "      <td>20572.0</td>\n",
       "      <td>5</td>\n",
       "      <td>56.135000</td>\n",
       "      <td>36.532500</td>\n",
       "      <td>40</td>\n",
       "      <td>33.905128</td>\n",
       "      <td>53.346154</td>\n",
       "      <td>39</td>\n",
       "    </tr>\n",
       "  </tbody>\n",
       "</table>\n",
       "<p>88 rows × 9 columns</p>\n",
       "</div>"
      ],
      "text/plain": [
       "     passer  recipient  pass_count          x          y  count      x_end   \n",
       "0    2995.0     2995.0           2  79.884000  11.448000     25  79.884000  \\\n",
       "9    3090.0     2995.0           4  38.279545  23.350000     44  79.884000   \n",
       "17   5503.0     2995.0           4  71.588889  51.096296     27  79.884000   \n",
       "26   5507.0     2995.0           7  58.567857   7.335714     28  79.884000   \n",
       "32   6909.0     2995.0           2  12.641667  43.966667     12  79.884000   \n",
       "..      ...        ...         ...        ...        ...    ...        ...   \n",
       "14   3090.0    20572.0          12  38.279545  23.350000     44  33.905128   \n",
       "21   5503.0    20572.0           1  71.588889  51.096296     27  33.905128   \n",
       "35   6909.0    20572.0           4  12.641667  43.966667     12  33.905128   \n",
       "43   7797.0    20572.0           6  59.159459  59.248649     37  33.905128   \n",
       "83  38718.0    20572.0           5  56.135000  36.532500     40  33.905128   \n",
       "\n",
       "        y_end  count_end  \n",
       "0   11.448000         25  \n",
       "9   11.448000         25  \n",
       "17  11.448000         25  \n",
       "26  11.448000         25  \n",
       "32  11.448000         25  \n",
       "..        ...        ...  \n",
       "14  53.346154         39  \n",
       "21  53.346154         39  \n",
       "35  53.346154         39  \n",
       "43  53.346154         39  \n",
       "83  53.346154         39  \n",
       "\n",
       "[88 rows x 9 columns]"
      ]
     },
     "execution_count": 26,
     "metadata": {},
     "output_type": "execute_result"
    }
   ],
   "source": [
    "passes_between"
   ]
  },
  {
   "cell_type": "code",
   "execution_count": 27,
   "id": "679f8417",
   "metadata": {},
   "outputs": [],
   "source": [
    "passes_between = passes_between[passes_between['pass_count'] >= 4]"
   ]
  },
  {
   "cell_type": "code",
   "execution_count": 28,
   "id": "dc75cac3",
   "metadata": {},
   "outputs": [],
   "source": [
    "def pass_line_template(ax, x, y, end_x, end_y, line_color):\n",
    "    ax.annotate(\n",
    "        '',\n",
    "    xy=(end_y, end_x),\n",
    "    xytext=(y, x),\n",
    "    zorder=1,\n",
    "    arrowprops=dict(arrowstyle='-|>', linewidth=4, color=line_color, alpha=.85)\n",
    "    )\n",
    "\n",
    "def pass_line_template_shrink(ax, x, y, end_x, end_y, line_color, dist_delta=1.2):\n",
    "    dist = math.hypot(end_x - x, end_y - y)\n",
    "    angle = math.atan2(end_y-y, end_x-x)\n",
    "    upd_x = x + (dist - dist_delta) * math.cos(angle)\n",
    "    upd_y = y + (dist - dist_delta) * math.sin(angle)\n",
    "    pass_line_template(ax, x, y, upd_x, upd_y, line_color=line_color)"
   ]
  },
  {
   "cell_type": "code",
   "execution_count": 30,
   "id": "75ae637a",
   "metadata": {},
   "outputs": [
    {
     "data": {
      "text/plain": [
       "<matplotlib.collections.PathCollection at 0x23ae3263fd0>"
      ]
     },
     "execution_count": 30,
     "metadata": {},
     "output_type": "execute_result"
    },
    {
     "data": {
      "image/png": "[encoded data removed]",
      "text/plain": [
       "<Figure size 1200x800 with 1 Axes>"
      ]
     },
     "metadata": {},
     "output_type": "display_data"
    }
   ],
   "source": [
    "pitch = VerticalPitch(pitch_type='statsbomb')\n",
    "fig, ax = pitch.draw(figsize=(12,8))\n",
    "\n",
    "for index, row in passes_between.iterrows():\n",
    "    pass_line_template_shrink(ax, row['x'], row['y'], row['x_end'], row['y_end'], 'black')\n",
    "    \n",
    "pitch.scatter(\n",
    "    average_loc_and_count.x, average_loc_and_count.y, s=500,\n",
    "    color='#f0ece2', edgecolors='#010101', linewidth=2, alpha=1, ax=ax, zorder=2)"
   ]
  },
  {
   "cell_type": "code",
   "execution_count": null,
   "id": "4c085232",
   "metadata": {},
   "outputs": [],
   "source": []
  }
 ],
 "metadata": {
  "kernelspec": {
   "display_name": "Python 3 (ipykernel)",
   "language": "python",
   "name": "python3"
  },
  "language_info": {
   "codemirror_mode": {
    "name": "ipython",
    "version": 3
   },
   "file_extension": ".py",
   "mimetype": "text/x-python",
   "name": "python",
   "nbconvert_exporter": "python",
   "pygments_lexer": "ipython3",
   "version": "3.11.3"
  }
 },
 "nbformat": 4,
 "nbformat_minor": 5
}
