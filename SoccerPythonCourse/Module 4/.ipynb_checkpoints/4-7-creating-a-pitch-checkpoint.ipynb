{
 "cells": [
  {
   "cell_type": "code",
   "execution_count": null,
   "id": "792a8b01-63bd-4c72-898c-d3cdca7c81fa",
   "metadata": {},
   "outputs": [],
   "source": []
  }
 ],
 "metadata": {
  "kernelspec": {
   "display_name": "",
   "name": ""
  },
  "language_info": {
   "name": ""
  }
 },
 "nbformat": 4,
 "nbformat_minor": 5
}
