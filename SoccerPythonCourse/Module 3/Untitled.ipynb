{
 "cells": [
  {
   "cell_type": "code",
   "execution_count": 2,
   "id": "b51e63f2-d439-410a-8367-1d6e7cc5b8bc",
   "metadata": {},
   "outputs": [],
   "source": [
    "import re\n",
    "import json\n",
    "import requests\n",
    "from bs4 import BeautifulSoup\n",
    "import pandas as pd\n",
    "from selenium import webdriver"
   ]
  },
  {
   "cell_type": "code",
   "execution_count": 12,
   "id": "10e670b2-314e-411a-9556-256e04983190",
   "metadata": {},
   "outputs": [],
   "source": [
    "driver = webdriver.Chrome()\n",
    "sofascore_url = \"https://www.sofascore.com/tournament/football/mexico/liga-mx-clausura/11620#id:57315,tab:matches,tab:results\"\n",
    "driver.get(sofascore_url)\n",
    "soup = BeautifulSoup(driver.page_source, 'html.parser')\n",
    "# Extract all the URLs from the <a> tags\n",
    "all_urls = [link.get('href') for link in soup.find_all('a', href=True) if link.get('data-id') and '#id:' in link.get('href')]\n",
    "all_urls = list(set([\n",
    "    'https://www.sofascore.com/' + x\n",
    "    for x in all_urls\n",
    "]))"
   ]
  },
  {
   "cell_type": "code",
   "execution_count": 13,
   "id": "d4020533-0e65-45c9-9d63-725a02096f8d",
   "metadata": {},
   "outputs": [
    {
     "data": {
      "text/plain": [
       "['https://www.sofascore.com//mazatlan-fc-cf-pachuca/LNsWN#id:11911053',\n",
       " 'https://www.sofascore.com//cf-pachuca-pumas-unam/INsLN#id:12293552',\n",
       " 'https://www.sofascore.com//atlas-fc-cd-guadalajara/NNsZN#id:11911048',\n",
       " 'https://www.sofascore.com//queretaro-fc-club-necaxa/UNsbO#id:12293553',\n",
       " 'https://www.sofascore.com//cruz-azul-deportivo-toluca-fc/GNsXN#id:11911045',\n",
       " 'https://www.sofascore.com//santos-laguna-pumas-unam/INsYN#id:11911138',\n",
       " 'https://www.sofascore.com//club-necaxa-cf-monterrey/HNsUN#id:11911043',\n",
       " 'https://www.sofascore.com//mazatlan-fc-tigres-uanl/PNsWN#id:11911093',\n",
       " 'https://www.sofascore.com//atlas-fc-club-america/ONsZN#id:11911114',\n",
       " 'https://www.sofascore.com//fc-juarez-santos-laguna/YNszHFb#id:11911083',\n",
       " 'https://www.sofascore.com//club-necaxa-tigres-uanl/PNsUN#id:11911059',\n",
       " 'https://www.sofascore.com//atletico-san-luis-santos-laguna/YNsaO#id:11911040',\n",
       " 'https://www.sofascore.com//club-tijuana-club-puebla/QNsAFo#id:11911064',\n",
       " 'https://www.sofascore.com//club-tijuana-tigres-uanl/PNsAFo#id:11911039',\n",
       " 'https://www.sofascore.com//club-america-deportivo-toluca-fc/GNsON#id:11911066',\n",
       " 'https://www.sofascore.com//fc-juarez-club-leon/JFoszHFb#id:11911051',\n",
       " 'https://www.sofascore.com//queretaro-fc-pumas-unam/INsbO#id:11911054',\n",
       " 'https://www.sofascore.com//atletico-san-luis-mazatlan-fc/WNsaO#id:11911200',\n",
       " 'https://www.sofascore.com//fc-juarez-club-america/ONszHFb#id:11911171']"
      ]
     },
     "execution_count": 13,
     "metadata": {},
     "output_type": "execute_result"
    }
   ],
   "source": [
    "all_urls"
   ]
  },
  {
   "cell_type": "code",
   "execution_count": 14,
   "id": "6dd44a1e-8ead-4f12-a098-04dae91dd871",
   "metadata": {},
   "outputs": [
    {
     "data": {
      "text/plain": [
       "19"
      ]
     },
     "execution_count": 14,
     "metadata": {},
     "output_type": "execute_result"
    }
   ],
   "source": [
    "len(all_urls)"
   ]
  },
  {
   "cell_type": "code",
   "execution_count": null,
   "id": "4f00848a-d419-4ca7-ae54-a0dca0ec8b6d",
   "metadata": {},
   "outputs": [],
   "source": []
  }
 ],
 "metadata": {
  "kernelspec": {
   "display_name": "Python 3 (ipykernel)",
   "language": "python",
   "name": "python3"
  },
  "language_info": {
   "codemirror_mode": {
    "name": "ipython",
    "version": 3
   },
   "file_extension": ".py",
   "mimetype": "text/x-python",
   "name": "python",
   "nbconvert_exporter": "python",
   "pygments_lexer": "ipython3",
   "version": "3.11.3"
  }
 },
 "nbformat": 4,
 "nbformat_minor": 5
}
